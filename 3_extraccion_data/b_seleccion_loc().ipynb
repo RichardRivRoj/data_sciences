{
 "cells": [
  {
   "cell_type": "code",
   "execution_count": 1,
   "id": "f85c8b35",
   "metadata": {},
   "outputs": [],
   "source": [
    "import pandas as pd"
   ]
  },
  {
   "cell_type": "code",
   "execution_count": 2,
   "id": "c4ba835b",
   "metadata": {},
   "outputs": [],
   "source": [
    "df_futbol = pd.read_csv('players_20_new.csv')"
   ]
  },
  {
   "cell_type": "code",
   "execution_count": 4,
   "id": "bf8da832",
   "metadata": {},
   "outputs": [
    {
     "data": {
      "text/html": [
       "<div>\n",
       "<style scoped>\n",
       "    .dataframe tbody tr th:only-of-type {\n",
       "        vertical-align: middle;\n",
       "    }\n",
       "\n",
       "    .dataframe tbody tr th {\n",
       "        vertical-align: top;\n",
       "    }\n",
       "\n",
       "    .dataframe thead th {\n",
       "        text-align: right;\n",
       "    }\n",
       "</style>\n",
       "<table border=\"1\" class=\"dataframe\">\n",
       "  <thead>\n",
       "    <tr style=\"text-align: right;\">\n",
       "      <th></th>\n",
       "      <th>long_name</th>\n",
       "      <th>age</th>\n",
       "      <th>dob</th>\n",
       "      <th>height_cm</th>\n",
       "      <th>weight_kg</th>\n",
       "      <th>nationality</th>\n",
       "      <th>club</th>\n",
       "    </tr>\n",
       "    <tr>\n",
       "      <th>short_name</th>\n",
       "      <th></th>\n",
       "      <th></th>\n",
       "      <th></th>\n",
       "      <th></th>\n",
       "      <th></th>\n",
       "      <th></th>\n",
       "      <th></th>\n",
       "    </tr>\n",
       "  </thead>\n",
       "  <tbody>\n",
       "    <tr>\n",
       "      <th>L. Messi</th>\n",
       "      <td>Lionel Andrés Messi Cuccittini</td>\n",
       "      <td>32</td>\n",
       "      <td>1987-06-24</td>\n",
       "      <td>170</td>\n",
       "      <td>72</td>\n",
       "      <td>Argentina</td>\n",
       "      <td>FC Barcelona</td>\n",
       "    </tr>\n",
       "    <tr>\n",
       "      <th>Cristiano Ronaldo</th>\n",
       "      <td>Cristiano Ronaldo dos Santos Aveiro</td>\n",
       "      <td>34</td>\n",
       "      <td>1985-02-05</td>\n",
       "      <td>187</td>\n",
       "      <td>83</td>\n",
       "      <td>Portugal</td>\n",
       "      <td>Juventus</td>\n",
       "    </tr>\n",
       "    <tr>\n",
       "      <th>Neymar Jr</th>\n",
       "      <td>Neymar da Silva Santos Junior</td>\n",
       "      <td>27</td>\n",
       "      <td>1992-02-05</td>\n",
       "      <td>175</td>\n",
       "      <td>68</td>\n",
       "      <td>Brazil</td>\n",
       "      <td>Paris Saint-Germain</td>\n",
       "    </tr>\n",
       "    <tr>\n",
       "      <th>J. Oblak</th>\n",
       "      <td>Jan Oblak</td>\n",
       "      <td>26</td>\n",
       "      <td>1993-01-07</td>\n",
       "      <td>188</td>\n",
       "      <td>87</td>\n",
       "      <td>Slovenia</td>\n",
       "      <td>Atlético Madrid</td>\n",
       "    </tr>\n",
       "    <tr>\n",
       "      <th>E. Hazard</th>\n",
       "      <td>Eden Hazard</td>\n",
       "      <td>28</td>\n",
       "      <td>1991-01-07</td>\n",
       "      <td>175</td>\n",
       "      <td>74</td>\n",
       "      <td>Belgium</td>\n",
       "      <td>Real Madrid</td>\n",
       "    </tr>\n",
       "  </tbody>\n",
       "</table>\n",
       "</div>"
      ],
      "text/plain": [
       "                                             long_name  age         dob  \\\n",
       "short_name                                                                \n",
       "L. Messi                Lionel Andrés Messi Cuccittini   32  1987-06-24   \n",
       "Cristiano Ronaldo  Cristiano Ronaldo dos Santos Aveiro   34  1985-02-05   \n",
       "Neymar Jr                Neymar da Silva Santos Junior   27  1992-02-05   \n",
       "J. Oblak                                     Jan Oblak   26  1993-01-07   \n",
       "E. Hazard                                  Eden Hazard   28  1991-01-07   \n",
       "\n",
       "                   height_cm  weight_kg nationality                 club  \n",
       "short_name                                                                \n",
       "L. Messi                 170         72   Argentina         FC Barcelona  \n",
       "Cristiano Ronaldo        187         83    Portugal             Juventus  \n",
       "Neymar Jr                175         68      Brazil  Paris Saint-Germain  \n",
       "J. Oblak                 188         87    Slovenia      Atlético Madrid  \n",
       "E. Hazard                175         74     Belgium          Real Madrid  "
      ]
     },
     "execution_count": 4,
     "metadata": {},
     "output_type": "execute_result"
    }
   ],
   "source": [
    "df_futbol.set_index('short_name', inplace=True)\n",
    "df_futbol.head()"
   ]
  },
  {
   "cell_type": "markdown",
   "id": "bc0857e3",
   "metadata": {},
   "source": [
    "### 1. Seleccionar con un valor\n",
    "\n",
    "##### loc[nombre_fila, nombre_columna]"
   ]
  },
  {
   "cell_type": "code",
   "execution_count": null,
   "id": "45e177ea",
   "metadata": {},
   "outputs": [
    {
     "data": {
      "text/plain": [
       "long_name      Lionel Andrés Messi Cuccittini\n",
       "age                                        32\n",
       "dob                                1987-06-24\n",
       "height_cm                                 170\n",
       "weight_kg                                  72\n",
       "nationality                         Argentina\n",
       "club                             FC Barcelona\n",
       "Name: L. Messi, dtype: object"
      ]
     },
     "execution_count": 5,
     "metadata": {},
     "output_type": "execute_result"
    }
   ],
   "source": [
    "# obtener toda la data sobre L. Messi\n",
    "df_futbol.loc['L. Messi']"
   ]
  },
  {
   "cell_type": "code",
   "execution_count": null,
   "id": "de3491ed",
   "metadata": {},
   "outputs": [
    {
     "data": {
      "text/plain": [
       "np.int64(170)"
      ]
     },
     "execution_count": 6,
     "metadata": {},
     "output_type": "execute_result"
    }
   ],
   "source": [
    "# Obtener el tamano de L. Messi\n",
    "df_futbol.loc['L. Messi','height_cm']"
   ]
  },
  {
   "cell_type": "code",
   "execution_count": 7,
   "id": "1e04abdb",
   "metadata": {},
   "outputs": [
    {
     "data": {
      "text/plain": [
       "np.int64(83)"
      ]
     },
     "execution_count": 7,
     "metadata": {},
     "output_type": "execute_result"
    }
   ],
   "source": [
    "# Obtener el peso de Cristiano Ronaldo\n",
    "df_futbol.loc['Cristiano Ronaldo', 'weight_kg']"
   ]
  },
  {
   "cell_type": "code",
   "execution_count": 12,
   "id": "a4c0aae0",
   "metadata": {},
   "outputs": [
    {
     "data": {
      "text/plain": [
       "short_name\n",
       "L. Messi             170\n",
       "Cristiano Ronaldo    187\n",
       "Neymar Jr            175\n",
       "J. Oblak             188\n",
       "E. Hazard            175\n",
       "                    ... \n",
       "Shao Shuai           186\n",
       "Xiao Mingjie         177\n",
       "Zhang Wei            186\n",
       "Wang Haijian         185\n",
       "Pan Ximing           182\n",
       "Name: height_cm, Length: 18278, dtype: int64"
      ]
     },
     "execution_count": 12,
     "metadata": {},
     "output_type": "execute_result"
    }
   ],
   "source": [
    "# Obtener todas las filas dentro de la columna 'height_cm'\n",
    "df_futbol.loc[:,'height_cm']"
   ]
  },
  {
   "cell_type": "code",
   "execution_count": 13,
   "id": "3f5c06f5",
   "metadata": {},
   "outputs": [
    {
     "data": {
      "text/plain": [
       "long_name      Lionel Andrés Messi Cuccittini\n",
       "age                                        32\n",
       "dob                                1987-06-24\n",
       "height_cm                                 170\n",
       "weight_kg                                  72\n",
       "nationality                         Argentina\n",
       "club                             FC Barcelona\n",
       "Name: L. Messi, dtype: object"
      ]
     },
     "execution_count": 13,
     "metadata": {},
     "output_type": "execute_result"
    }
   ],
   "source": [
    "df_futbol.loc['L. Messi',:]"
   ]
  }
 ],
 "metadata": {
  "kernelspec": {
   "display_name": "env",
   "language": "python",
   "name": "python3"
  },
  "language_info": {
   "codemirror_mode": {
    "name": "ipython",
    "version": 3
   },
   "file_extension": ".py",
   "mimetype": "text/x-python",
   "name": "python",
   "nbconvert_exporter": "python",
   "pygments_lexer": "ipython3",
   "version": "3.12.3"
  }
 },
 "nbformat": 4,
 "nbformat_minor": 5
}
